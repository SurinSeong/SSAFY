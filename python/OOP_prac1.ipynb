{
 "cells": [
  {
   "cell_type": "markdown",
   "metadata": {},
   "source": [
    "# 객체지향의 이해\n",
    "\n",
    "## 멤버들의 이름과 나이를 관리하기 위한 객체 지향 프로그램 만들기"
   ]
  },
  {
   "cell_type": "code",
   "execution_count": 3,
   "metadata": {},
   "outputs": [
    {
     "name": "stdout",
     "output_type": "stream",
     "text": [
      "홍길동 20\n",
      "이순신 45\n",
      "강감찬 35\n"
     ]
    }
   ],
   "source": [
    "# 1. 멤버의 정보를 관리하기 위한 딕셔너리 객체 필요\n",
    "# 2. 더 많은 멤버를 관리하기 위해 딕셔너리 객체를 리스트 객체로 관리해야 함.\n",
    "\n",
    "members = [\n",
    "    {'name':'홍길동', 'age':20},\n",
    "    {'name':'이순신', 'age':45},\n",
    "    {'name':'강감찬', 'age':35}\n",
    "]\n",
    "\n",
    "for member in members:\n",
    "    print(f\"{member['name']} {member['age']}\")"
   ]
  },
  {
   "cell_type": "code",
   "execution_count": 4,
   "metadata": {},
   "outputs": [
    {
     "name": "stdout",
     "output_type": "stream",
     "text": [
      "홍길동 20\n",
      "이순신 45\n",
      "강감찬 35\n"
     ]
    }
   ],
   "source": [
    "# 딕셔너리 객체의 생성 및 정보 출력\n",
    "\n",
    "# 함수 생성 : 매개변수에 인자를 전달받아 딕셔너리 객체를 생성 및 반환하는 함수\n",
    "# ==> 멤버 정보 생성이 필요할 때마다 호출하여 사용한다.\n",
    "def create(name, age):\n",
    "    return {'name':name, 'age':age}\n",
    "\n",
    "# 함수 생성 : 인자로 전달 받은 딕셔너리 객체의 값을 문자열로 반환하는 함수\n",
    "# ==>\n",
    "def to_str(person):\n",
    "    return f\"{person['name']} {person['age']}\"\n",
    "\n",
    "# 1. 딕셔너리 객체 3개를 항목으로 가진 members 리스트 객체 생성하기\n",
    "members = [\n",
    "    create('홍길동', 20),\n",
    "    create('이순신', 45),\n",
    "    create('강감찬', 35)\n",
    "]\n",
    "\n",
    "for member in members:\n",
    "    print(to_str(member))"
   ]
  },
  {
   "cell_type": "markdown",
   "metadata": {},
   "source": [
    "# 클래스 정의"
   ]
  },
  {
   "cell_type": "code",
   "execution_count": 5,
   "metadata": {},
   "outputs": [
    {
     "name": "stdout",
     "output_type": "stream",
     "text": [
      "member는 Person 클래스의 인스턴스입니다.\n"
     ]
    }
   ],
   "source": [
    "# 클래스 정의 및 객체 생성\n",
    "\n",
    "class Person:\n",
    "    pass # 일단 내용을 정하지 않았기 때문에 pass라고 설정\n",
    "\n",
    "member = Person()\n",
    "\n",
    "# 첫 번째 인자의 객체가 두 번째 인자의 클래스 인스턴스인지 검사\n",
    "if isinstance(member, Person):\n",
    "    print('member는 Person 클래스의 인스턴스입니다.')"
   ]
  },
  {
   "cell_type": "code",
   "execution_count": 8,
   "metadata": {},
   "outputs": [
    {
     "name": "stdout",
     "output_type": "stream",
     "text": [
      "홍길동 객체가 생성되었습니다.\n",
      "이순신 객체가 생성되었습니다.\n",
      "강감찬 객체가 생성되었습니다.\n",
      "이순신 객체가 제거되었습니다.\n",
      "홍길동 객체가 제거되었습니다.\n",
      "강감찬 객체가 제거되었습니다.\n",
      "홍길동 20\n",
      "이순신 45\n",
      "강감찬 35\n"
     ]
    }
   ],
   "source": [
    "# 객체의 생성과 소멸, 그리고 self\n",
    "\n",
    "class Person:\n",
    "    \n",
    "    # 생성자 메서드 정의\n",
    "    def __init__(self, name, age): # self : 객체 공간의 참조 전달 => self가 가리키는 객체 공간에 name, age 필드 생성\n",
    "        self.name = name\n",
    "        self.age = age\n",
    "        print(f\"{self.name} 객체가 생성되었습니다.\")\n",
    "    \n",
    "    # 소멸자 메서드 정의\n",
    "    def __del__(self):\n",
    "        print(f\"{self.name} 객체가 제거되었습니다.\")\n",
    "        \n",
    "    # 인스턴스 메서드 정의\n",
    "    def to_str(self):\n",
    "        return f\"{self.name} {self.age}\"\n",
    "        \n",
    "# member = Person('홍길동', 20)\n",
    "\n",
    "# print(f\"{member.name} {member.age}\")\n",
    "# print(dir(member))\n",
    "\n",
    "members = [\n",
    "    Person('홍길동', 20),\n",
    "    Person('이순신', 45),\n",
    "    Person('강감찬', 35)\n",
    "]\n",
    "\n",
    "for member in members:\n",
    "    print(member.to_str())"
   ]
  },
  {
   "cell_type": "markdown",
   "metadata": {},
   "source": [
    "# 클래스와 인스턴스의 특징"
   ]
  },
  {
   "cell_type": "code",
   "execution_count": 11,
   "metadata": {},
   "outputs": [
    {
     "name": "stdout",
     "output_type": "stream",
     "text": [
      "홍길동 객체가 생성되었습니다.\n",
      "이순신 객체가 생성되었습니다.\n",
      "강감찬 객체가 생성되었습니다.\n",
      "이순신 객체가 제거되었습니다.\n",
      "홍길동 객체가 제거되었습니다.\n"
     ]
    },
    {
     "ename": "TypeError",
     "evalue": "나이는 0 이상의 값만 허용합니다.",
     "output_type": "error",
     "traceback": [
      "\u001b[1;31m---------------------------------------------------------------------------\u001b[0m",
      "\u001b[1;31mTypeError\u001b[0m                                 Traceback (most recent call last)",
      "Cell \u001b[1;32mIn[11], line 38\u001b[0m\n\u001b[0;32m     30\u001b[0m         \u001b[38;5;28mself\u001b[39m\u001b[38;5;241m.\u001b[39m__age \u001b[38;5;241m=\u001b[39m age\n\u001b[0;32m     32\u001b[0m members \u001b[38;5;241m=\u001b[39m [\n\u001b[0;32m     33\u001b[0m     Person(\u001b[38;5;124m'\u001b[39m\u001b[38;5;124m홍길동\u001b[39m\u001b[38;5;124m'\u001b[39m, \u001b[38;5;241m20\u001b[39m),\n\u001b[0;32m     34\u001b[0m     Person(\u001b[38;5;124m'\u001b[39m\u001b[38;5;124m이순신\u001b[39m\u001b[38;5;124m'\u001b[39m, \u001b[38;5;241m45\u001b[39m),\n\u001b[0;32m     35\u001b[0m     Person(\u001b[38;5;124m'\u001b[39m\u001b[38;5;124m강감찬\u001b[39m\u001b[38;5;124m'\u001b[39m, \u001b[38;5;241m35\u001b[39m)\n\u001b[0;32m     36\u001b[0m ]\n\u001b[1;32m---> 38\u001b[0m \u001b[43mmembers\u001b[49m\u001b[43m[\u001b[49m\u001b[38;5;241;43m0\u001b[39;49m\u001b[43m]\u001b[49m\u001b[38;5;241;43m.\u001b[39;49m\u001b[43mset_age\u001b[49m\u001b[43m(\u001b[49m\u001b[38;5;241;43m-\u001b[39;49m\u001b[38;5;241;43m20\u001b[39;49m\u001b[43m)\u001b[49m\n\u001b[0;32m     40\u001b[0m \u001b[38;5;28;01mfor\u001b[39;00m member \u001b[38;5;129;01min\u001b[39;00m members:\n\u001b[0;32m     41\u001b[0m     \u001b[38;5;28mprint\u001b[39m(member\u001b[38;5;241m.\u001b[39mto_str())\n",
      "Cell \u001b[1;32mIn[11], line 29\u001b[0m, in \u001b[0;36mPerson.set_age\u001b[1;34m(self, age)\u001b[0m\n\u001b[0;32m     27\u001b[0m \u001b[38;5;28;01mdef\u001b[39;00m \u001b[38;5;21mset_age\u001b[39m(\u001b[38;5;28mself\u001b[39m, age):\n\u001b[0;32m     28\u001b[0m     \u001b[38;5;28;01mif\u001b[39;00m age \u001b[38;5;241m<\u001b[39m \u001b[38;5;241m0\u001b[39m:\n\u001b[1;32m---> 29\u001b[0m         \u001b[38;5;28;01mraise\u001b[39;00m \u001b[38;5;167;01mTypeError\u001b[39;00m(\u001b[38;5;124m'\u001b[39m\u001b[38;5;124m나이는 0 이상의 값만 허용합니다.\u001b[39m\u001b[38;5;124m'\u001b[39m)\n\u001b[0;32m     30\u001b[0m     \u001b[38;5;28mself\u001b[39m\u001b[38;5;241m.\u001b[39m__age \u001b[38;5;241m=\u001b[39m age\n",
      "\u001b[1;31mTypeError\u001b[0m: 나이는 0 이상의 값만 허용합니다."
     ]
    }
   ],
   "source": [
    "# 인스턴스 변수의 접근 제한 기능\n",
    "# 클래스 생성\n",
    "class Person:\n",
    "    \n",
    "    # 생성자 메서드 생성\n",
    "    def __init__(self, name, age):\n",
    "        self.__name = name # 프라이빗 필드 생성\n",
    "        self.__age = age # 프라이빗 필드 생성\n",
    "        print(f\"{self.__name} 객체가 생성되었습니다.\")\n",
    "    \n",
    "    # 소멸자 메서드 생성\n",
    "    def __del__(self):\n",
    "        print(f\"{self.__name} 객체가 제거되었습니다.\")\n",
    "        \n",
    "    # 인스턴스 메서드 정의\n",
    "    def to_str(self):\n",
    "        return f\"{self.__name} {self.__age}\"\n",
    "    \n",
    "    # getter 메서드 생성\n",
    "    def get_name(self):\n",
    "        return self.__name\n",
    "    \n",
    "    def get_age(self):\n",
    "        return self.__age\n",
    "    \n",
    "    # setter 메서드 생성\n",
    "    def set_age(self, age):\n",
    "        if age < 0:\n",
    "            raise TypeError('나이는 0 이상의 값만 허용합니다.')\n",
    "        self.__age = age\n",
    "        \n",
    "members = [\n",
    "    Person('홍길동', 20),\n",
    "    Person('이순신', 45),\n",
    "    Person('강감찬', 35)\n",
    "]\n",
    "\n",
    "members[0].set_age(-20) # 허용된 값이 아니기 때문에 에러 발생함.\n",
    "\n",
    "for member in members:\n",
    "    print(member.to_str())"
   ]
  },
  {
   "cell_type": "code",
   "execution_count": 12,
   "metadata": {},
   "outputs": [],
   "source": [
    "# 데코레이터 기능\n",
    "# 클래스 생성\n",
    "class Person:\n",
    "    \n",
    "    # 생성자 메서드 생성\n",
    "    def __init__(self, name, age):\n",
    "        self.__name = name # 프라이빗 필드 생성\n",
    "        self.__age = age # 프라이빗 필드 생성\n",
    "        print(f\"{self.__name} 객체가 생성되었습니다.\")\n",
    "    \n",
    "    # 소멸자 메서드 생성\n",
    "    def __del__(self):\n",
    "        print(f\"{self.__name} 객체가 제거되었습니다.\")\n",
    "        \n",
    "    # 인스턴스 메서드 정의\n",
    "    def to_str(self):\n",
    "        return f\"{self.__name} {self.__age}\"\n",
    "    \n",
    "    @property # 변수처럼 사용 가능 & getter 메서드 역할\n",
    "    def name(self):\n",
    "        return self.__name\n",
    "    \n",
    "    @property # 변수처럼 사용 가능 & getter 메서드 역할\n",
    "    def age(self):\n",
    "        return self.__age\n",
    "    \n",
    "    @age.setter # 변수처럼 사용 가능 & setter 메서드 역할\n",
    "    def age(self, age):\n",
    "        if age < 0:\n",
    "            raise TypeError('나이는 0 이상의 값만 허용함.')\n",
    "        self.__age = age        "
   ]
  },
  {
   "cell_type": "code",
   "execution_count": 14,
   "metadata": {},
   "outputs": [
    {
     "name": "stdout",
     "output_type": "stream",
     "text": [
      "홍길동 객체가 생성되었습니다.\n",
      "이순신 객체가 생성되었습니다.\n",
      "강감찬 객체가 생성되었습니다.\n",
      "강감찬 객체가 제거되었습니다.\n",
      "이순신 객체가 제거되었습니다.\n",
      "강감찬 객체가 제거되었습니다.\n",
      "홍길동 22\n",
      "이순신 45\n",
      "강감찬 35\n"
     ]
    }
   ],
   "source": [
    "members = [\n",
    "    Person('홍길동', 20),\n",
    "    Person('이순신', 45),\n",
    "    Person('강감찬', 35)\n",
    "]\n",
    "\n",
    "members[0].age = 22 # age@property 데코레이터를 이용해 변수처럼 값 저장\n",
    "\n",
    "for member in members:\n",
    "    print(member.to_str())"
   ]
  },
  {
   "cell_type": "code",
   "execution_count": 15,
   "metadata": {},
   "outputs": [
    {
     "name": "stdout",
     "output_type": "stream",
     "text": [
      "홍길동 객체가 생성되었습니다.\n",
      "이순신 객체가 생성되었습니다.\n",
      "강감찬 객체가 생성되었습니다.\n",
      "현재 Person 클래스의 인스턴스는 총 3개 입니다.\n"
     ]
    }
   ],
   "source": [
    "# 클래스 변수의 count 활용법\n",
    "class Person:\n",
    "    count = 0\n",
    "    \n",
    "    def __init__(self, name, age): # 객체가 생성될 때마다 호출\n",
    "        self.__name = name\n",
    "        self.__age = age\n",
    "        Person.count += 1 # count 변수에 1 추가\n",
    "        print(f\"{self.__name} 객체가 생성되었습니다.\")\n",
    "        \n",
    "    def __del__(self):\n",
    "        print(f\"{self.__name} 객체가 제거되었습니다.\")\n",
    "        \n",
    "    def to_str(self):\n",
    "        return f\"{self.__name} {self.__age}\"\n",
    "    \n",
    "    @property\n",
    "    def name(self):\n",
    "        return self.__name\n",
    "    \n",
    "    @property\n",
    "    def age(self):\n",
    "        return self.__age\n",
    "    \n",
    "    @age.setter\n",
    "    def age(self, age):\n",
    "        if age < 0:\n",
    "            raise TypeError('나이는 0 이상의 값만 허용함.')\n",
    "        self.__age = age\n",
    "        \n",
    "        \n",
    "people = [\n",
    "    Person('홍길동', 20),\n",
    "    Person('이순신', 45),\n",
    "    Person('강감찬', 35)\n",
    "]\n",
    "\n",
    "print(f'현재 Person 클래스의 인스턴스는 총 {Person.count}개 입니다.')"
   ]
  },
  {
   "cell_type": "code",
   "execution_count": 16,
   "metadata": {},
   "outputs": [
    {
     "name": "stdout",
     "output_type": "stream",
     "text": [
      "홍길동 객체가 생성되었습니다.\n",
      "이순신 객체가 생성되었습니다.\n",
      "강감찬 객체가 생성되었습니다.\n",
      "이순신 객체가 제거되었습니다.\n",
      "홍길동 객체가 제거되었습니다.\n",
      "현재 Person 클래스의 인스턴스는 총 3개 입니다.\n"
     ]
    }
   ],
   "source": [
    "# 클래스 메서드의 사용\n",
    "class Person:\n",
    "    count = 0\n",
    "    \n",
    "    def __init__(self, name, age):\n",
    "        self.__name = name\n",
    "        self.__age = age\n",
    "        Person.count += 1\n",
    "        print(f\"{self.__name} 객체가 생성되었습니다.\")\n",
    "        \n",
    "    def __del__(self):\n",
    "        print(f\"{self.__name} 객체가 제거되었습니다.\")\n",
    "        \n",
    "    def to_str(self):\n",
    "        return f\"{self.__name} {self.__age}\"\n",
    "    \n",
    "    @property\n",
    "    def name(self):\n",
    "        return self.__name\n",
    "    \n",
    "    @property\n",
    "    def age(self):\n",
    "        return self.__age\n",
    "    \n",
    "    @age.setter\n",
    "    def age(self, age):\n",
    "        if age < 0:\n",
    "            raise TypeError('나이는 0 이상의 값만 허용함.')\n",
    "        self.__age = age\n",
    "        \n",
    "    @classmethod # 클래스 메서드 데코레이터\n",
    "    def get_info(cls): # cls : 클래스 참조 정보가 인자로 넘어올 매개변수\n",
    "        return f'현재 Person 클래스의 인스턴스는 총 {cls.count}개 입니다.'\n",
    "    \n",
    "members = [\n",
    "    Person('홍길동', 20),\n",
    "    Person('이순신', 45),\n",
    "    Person('강감찬', 35)\n",
    "]\n",
    "\n",
    "print(Person.get_info()) # Person 클래스를 통해 호출"
   ]
  },
  {
   "cell_type": "code",
   "execution_count": 17,
   "metadata": {},
   "outputs": [
    {
     "name": "stdout",
     "output_type": "stream",
     "text": [
      "홍길동 객체가 생성되었습니다.\n",
      "이순신 객체가 생성되었습니다.\n",
      "강감찬 객체가 생성되었습니다.\n",
      "강감찬 객체가 제거되었습니다.\n",
      "이순신 객체가 제거되었습니다.\n",
      "홍길동 객체가 제거되었습니다.\n",
      "members[0] > members[1] => False\n",
      "members[1] > members[2] => True\n",
      "members[2] > members[0] => True\n"
     ]
    }
   ],
   "source": [
    "# 연산자 오버로딩\n",
    "class Person:\n",
    "    count = 0\n",
    "    \n",
    "    def __init__(self, name, age):\n",
    "        self.__name = name\n",
    "        self.__age = age\n",
    "        Person.count += 1\n",
    "        print(f\"{self.__name} 객체가 생성되었습니다.\")\n",
    "        \n",
    "    def __del__(self):\n",
    "        print(f\"{self.__name} 객체가 제거되었습니다.\")\n",
    "        \n",
    "    def to_str(self):\n",
    "        return f\"{self.__name} {self.__age}\"\n",
    "    \n",
    "    @property\n",
    "    def name(self):\n",
    "        return self.__name\n",
    "    \n",
    "    @property\n",
    "    def age(self):\n",
    "        return self.__age\n",
    "    \n",
    "    @age.setter\n",
    "    def age(self, age):\n",
    "        if age < 0:\n",
    "            raise TypeError('나이는 0 이상의 값만 허용함.')\n",
    "        self.__age = age\n",
    "        \n",
    "    @classmethod # 클래스 메서드 데코레이터\n",
    "    def get_info(cls): # cls : 클래스 참조 정보가 인자로 넘어올 매개변수\n",
    "        return f'현재 Person 클래스의 인스턴스는 총 {cls.count}개 입니다.'\n",
    "    \n",
    "    # 비교 연산자 오버로딩\n",
    "    def __gt__(self, other):\n",
    "        return self.__age > other.__age # self의 __age 필드가 other 객체의 __age 필드보다 크면 True 반환\n",
    "    \n",
    "    def __ge__(self, other):\n",
    "        return self.__age >= other.__age # self의 __age 필드가 other 객체의 __age 필드보다 크거나 같으면 True 반환\n",
    "    \n",
    "    def __lt__(self, other):\n",
    "        return self.__age < other.__age # self의 __age 필드가 other 객체의 __age 필드보다 작으으면 True 반환\n",
    "    \n",
    "    def __le__(self, other):\n",
    "        return self.__age <= other.__age # self의 __age 필드가 other 객체의 __age 필드보다 작거나 같으면 True 반환\n",
    "    \n",
    "    def __eq__(self, other):\n",
    "        return self.__age == other.__age # self의 __age 필드가 other 객체의 __age 필드와 같으면 True 반환\n",
    "    \n",
    "    def __ne__(self, other):\n",
    "        return self.__age != other.__age # self의 __age 필드가 other 객체의 __age 필드와 다르면 True 반환\n",
    "\n",
    "members = [\n",
    "    Person('홍길동', 20),\n",
    "    Person('이순신', 45),\n",
    "    Person('강감찬', 35)\n",
    "]\n",
    "    \n",
    "cnt = len(members)\n",
    "i = 0\n",
    "\n",
    "while True:\n",
    "    print(f'members[{i}] > members[{i+1}] => {members[i] > members[i+1]}') # __gt__\n",
    "    \n",
    "    i += 1\n",
    "    \n",
    "    if i == (cnt-1):\n",
    "        print(f'members[{i}] > members[0] => {members[i] > members[0]}')\n",
    "        break"
   ]
  },
  {
   "cell_type": "code",
   "execution_count": 18,
   "metadata": {},
   "outputs": [
    {
     "name": "stdout",
     "output_type": "stream",
     "text": [
      "홍길동 객체가 생성되었습니다.\n",
      "이순신 객체가 생성되었습니다.\n",
      "강감찬 객체가 생성되었습니다.\n",
      "강감찬 객체가 제거되었습니다.\n",
      "이순신 객체가 제거되었습니다.\n",
      "홍길동 객체가 제거되었습니다.\n",
      "강감찬 객체가 제거되었습니다.\n",
      "홍길동 20\n",
      "이순신 45\n",
      "강감찬 35\n"
     ]
    }
   ],
   "source": [
    "class Person:\n",
    "    count = 0\n",
    "    \n",
    "    def __init__(self, name, age):\n",
    "        self.__name = name\n",
    "        self.__age = age\n",
    "        Person.count += 1\n",
    "        print(f\"{self.__name} 객체가 생성되었습니다.\")\n",
    "        \n",
    "    def __del__(self):\n",
    "        print(f\"{self.__name} 객체가 제거되었습니다.\")\n",
    "        \n",
    "    def to_str(self):\n",
    "        return f\"{self.__name} {self.__age}\"\n",
    "    \n",
    "    @property\n",
    "    def name(self):\n",
    "        return self.__name\n",
    "    \n",
    "    @property\n",
    "    def age(self):\n",
    "        return self.__age\n",
    "    \n",
    "    @age.setter\n",
    "    def age(self, age):\n",
    "        if age < 0:\n",
    "            raise TypeError('나이는 0 이상의 값만 허용함.')\n",
    "        self.__age = age\n",
    "        \n",
    "    @classmethod # 클래스 메서드 데코레이터\n",
    "    def get_info(cls): # cls : 클래스 참조 정보가 인자로 넘어올 매개변수\n",
    "        return f'현재 Person 클래스의 인스턴스는 총 {cls.count}개 입니다.'\n",
    "    \n",
    "    # 비교 연산자 오버로딩\n",
    "    def __gt__(self, other):\n",
    "        return self.__age > other.__age # self의 __age 필드가 other 객체의 __age 필드보다 크면 True 반환\n",
    "    \n",
    "    def __ge__(self, other):\n",
    "        return self.__age >= other.__age # self의 __age 필드가 other 객체의 __age 필드보다 크거나 같으면 True 반환\n",
    "    \n",
    "    def __lt__(self, other):\n",
    "        return self.__age < other.__age # self의 __age 필드가 other 객체의 __age 필드보다 작으으면 True 반환\n",
    "    \n",
    "    def __le__(self, other):\n",
    "        return self.__age <= other.__age # self의 __age 필드가 other 객체의 __age 필드보다 작거나 같으면 True 반환\n",
    "    \n",
    "    def __eq__(self, other):\n",
    "        return self.__age == other.__age # self의 __age 필드가 other 객체의 __age 필드와 같으면 True 반환\n",
    "    \n",
    "    def __ne__(self, other):\n",
    "        return self.__age != other.__age # self의 __age 필드가 other 객체의 __age 필드와 다르면 True 반환\n",
    "\n",
    "    # __str__ 메서드\n",
    "    def __str__(self):\n",
    "        return f\"{self.__name} {self.__age}\"\n",
    "    \n",
    "members = [\n",
    "    Person('홍길동', 20),\n",
    "    Person('이순신', 45),\n",
    "    Person('강감찬', 35)\n",
    "]\n",
    "\n",
    "for member in members:\n",
    "    print(str(member))"
   ]
  },
  {
   "cell_type": "markdown",
   "metadata": {},
   "source": [
    "# 클래스 상속"
   ]
  },
  {
   "cell_type": "code",
   "execution_count": 20,
   "metadata": {},
   "outputs": [
    {
     "name": "stdout",
     "output_type": "stream",
     "text": [
      "Parent 클래스의 __init__() ...\n",
      "Child 클래스의 __init__() ...\n",
      "홍\n",
      "길동\n",
      "홍 길동\n",
      "====>\n",
      "홍 길순\n"
     ]
    }
   ],
   "source": [
    "# 클래스 상속\n",
    "class Parent:\n",
    "    def __init__(self, family_name):\n",
    "        self.__family_name = family_name\n",
    "        print(\"Parent 클래스의 __init__() ...\")\n",
    "        \n",
    "    @property\n",
    "    def family_name(self):\n",
    "        return self.__family_name\n",
    "    \n",
    "class Child(Parent):\n",
    "    def __init__(self, first_name, last_name):\n",
    "        Parent.__init__(self, last_name)\n",
    "        # super().__init__(last_name) # super() 호출과 생성자 호출의 결합해 동일한 효과를 얻는다.\n",
    "        self.__first_name = first_name\n",
    "        print(\"Child 클래스의 __init__() ...\")\n",
    "        \n",
    "    @property\n",
    "    def first_name(self):\n",
    "        return self.__first_name\n",
    "    \n",
    "    @first_name.setter\n",
    "    def first_name(self, first_name):\n",
    "        self.__first_name = first_name\n",
    "        \n",
    "    @property\n",
    "    def name(self):\n",
    "        return f\"{self.family_name} {self.first_name}\"\n",
    "    \n",
    "child = Child('길동', '홍')\n",
    "\n",
    "print(child.family_name)\n",
    "print(child.first_name)\n",
    "print(child.name)\n",
    "print('====>')\n",
    "child.first_name = '길순'\n",
    "print(child.name)"
   ]
  },
  {
   "cell_type": "code",
   "execution_count": 21,
   "metadata": {},
   "outputs": [
    {
     "name": "stdout",
     "output_type": "stream",
     "text": [
      "Parent 클래스의 __init__() ...\n",
      "Child 클래스의 __init__() ...\n",
      "Parent: 홍\n",
      "Child: 홍 길동\n"
     ]
    }
   ],
   "source": [
    "# 메서드 오버라이딩\n",
    "\n",
    "# 부모 클래스\n",
    "class Parent:\n",
    "    def __init__(self, family_name):\n",
    "        self.__family_name = family_name\n",
    "        print(\"Parent 클래스의 __init__() ...\")\n",
    "        \n",
    "    @property\n",
    "    def family_name(self):\n",
    "        return self.__family_name\n",
    "    \n",
    "    def print_info(self):\n",
    "        print(f'Parent: {self.family_name}')\n",
    "\n",
    "# 자식 클래스      \n",
    "class Child(Parent):\n",
    "    def __init__(self, first_name, last_name):\n",
    "        Parent.__init__(self, last_name)\n",
    "        # super().__init__(last_name) # super() 호출과 생성자 호출의 결합해 동일한 효과를 얻는다.\n",
    "        self.__first_name = first_name\n",
    "        print(\"Child 클래스의 __init__() ...\")\n",
    "        \n",
    "    @property\n",
    "    def first_name(self):\n",
    "        return self.__first_name\n",
    "    \n",
    "    @first_name.setter\n",
    "    def first_name(self, first_name):\n",
    "        self.__first_name = first_name\n",
    "        \n",
    "    @property\n",
    "    def name(self):\n",
    "        return f\"{self.family_name} {self.first_name}\"\n",
    "    \n",
    "    def print_info(self):\n",
    "        Parent.print_info(self)\n",
    "        # super().print_info()\n",
    "        print(f'Child: {self.name}')\n",
    "        \n",
    "child = Child('길동', '홍')\n",
    "child.print_info()"
   ]
  },
  {
   "cell_type": "markdown",
   "metadata": {},
   "source": [
    "# 파이썬 활용"
   ]
  },
  {
   "cell_type": "code",
   "execution_count": 22,
   "metadata": {},
   "outputs": [
    {
     "name": "stdout",
     "output_type": "stream",
     "text": [
      "Student(name : 홍길동, gender : 남자, height : 180.3)\n"
     ]
    }
   ],
   "source": [
    "# 오름차순/내림차순으로 정렬하기\n",
    "# 1. Student 클래스\n",
    "# 프라이빗 필드를 가지고 있음.\n",
    "# 읽기 전용 name, gender의 property\n",
    "# 읽기, 쓰기 모두 가능한 height property\n",
    "# 특수함수 __repr__에 대한 정의를 가짐\n",
    "\n",
    "class Student:\n",
    "    \n",
    "    def __init__(self, name, gender, height):\n",
    "        self.__name = name\n",
    "        self.__gender = gender\n",
    "        self.__height = height\n",
    "        \n",
    "    @property\n",
    "    def name(self):\n",
    "        return self.__name\n",
    "    \n",
    "    @property\n",
    "    def gender(self):\n",
    "        return self.__gender\n",
    "    \n",
    "    @property\n",
    "    def height(self):\n",
    "        return self.__height\n",
    "    \n",
    "    @height.setter\n",
    "    def height(self, height):\n",
    "        self.__height = height\n",
    "    \n",
    "    # 객체 출력 시 주로 사용한다.    \n",
    "    def __repr__(self):\n",
    "        return f'{self.__class__.__name__}(name : {self.name}, gender : {self.gender}, height : {self.height})'\n",
    "    \n",
    "s1 = Student('홍길동', '남자', 180.3)\n",
    "print(s1)"
   ]
  },
  {
   "cell_type": "code",
   "execution_count": 23,
   "metadata": {},
   "outputs": [
    {
     "name": "stdout",
     "output_type": "stream",
     "text": [
      "Student(name : 홍길동, gender : 남자, height : 180.3)\n",
      "Student(name : 이순신, gender : 남자, height : 174.6)\n",
      "Student(name : 유관순, gender : 여자, height : 153.9)\n",
      "Student(name : 강감찬, gender : 남자, height : 188.4)\n"
     ]
    }
   ],
   "source": [
    "students = [\n",
    "    Student('홍길동', '남자', 180.3),\n",
    "    Student('이순신', '남자', 174.6),\n",
    "    Student('유관순', '여자', 153.9),\n",
    "    Student('강감찬', '남자', 188.4)\n",
    "]\n",
    "\n",
    "for student in students:\n",
    "    print(student)"
   ]
  },
  {
   "cell_type": "code",
   "execution_count": 27,
   "metadata": {},
   "outputs": [
    {
     "name": "stdout",
     "output_type": "stream",
     "text": [
      "=== name으로 오름차순 정렬 후 ===\n",
      "Student(name : 강감찬, gender : 남자, height : 188.4)\n",
      "Student(name : 유관순, gender : 여자, height : 153.9)\n",
      "Student(name : 이순신, gender : 남자, height : 174.6)\n",
      "Student(name : 홍길동, gender : 남자, height : 180.3)\n",
      "=== name으로 내림차순 정렬 후 ===\n",
      "Student(name : 홍길동, gender : 남자, height : 180.3)\n",
      "Student(name : 이순신, gender : 남자, height : 174.6)\n",
      "Student(name : 유관순, gender : 여자, height : 153.9)\n",
      "Student(name : 강감찬, gender : 남자, height : 188.4)\n",
      "=== height로 오름차순 정렬 후 ===\n",
      "Student(name : 유관순, gender : 여자, height : 153.9)\n",
      "Student(name : 이순신, gender : 남자, height : 174.6)\n",
      "Student(name : 홍길동, gender : 남자, height : 180.3)\n",
      "Student(name : 강감찬, gender : 남자, height : 188.4)\n",
      "=== height로 내림차순 정렬 후 ===\n",
      "Student(name : 강감찬, gender : 남자, height : 188.4)\n",
      "Student(name : 홍길동, gender : 남자, height : 180.3)\n",
      "Student(name : 이순신, gender : 남자, height : 174.6)\n",
      "Student(name : 유관순, gender : 여자, height : 153.9)\n"
     ]
    }
   ],
   "source": [
    "# 정렬하기\n",
    "print('=== name으로 오름차순 정렬 후 ===')\n",
    "\n",
    "for student in sorted(students, key=lambda x: x.name): # 클래스 안의 변수로 sort 기준 설정 가능함.\n",
    "    print(student)\n",
    "    \n",
    "print('=== name으로 내림차순 정렬 후 ===')\n",
    "\n",
    "for student in sorted(students, key=lambda x: x.name, reverse=True): # 클래스 안의 변수로 sort 기준 설정 가능함.\n",
    "    print(student)\n",
    "    \n",
    "print('=== height로 오름차순 정렬 후 ===')\n",
    "\n",
    "for student in sorted(students, key=lambda x: x.height): # 클래스 안의 변수로 sort 기준 설정 가능함.\n",
    "    print(student)\n",
    "    \n",
    "print('=== height로 내림차순 정렬 후 ===')\n",
    "\n",
    "for student in sorted(students, key=lambda x: x.height, reverse=True): # 클래스 안의 변수로 sort 기준 설정 가능함.\n",
    "    print(student)\n",
    "    "
   ]
  },
  {
   "cell_type": "code",
   "execution_count": null,
   "metadata": {},
   "outputs": [],
   "source": []
  }
 ],
 "metadata": {
  "kernelspec": {
   "display_name": "3.11.9",
   "language": "python",
   "name": "python3"
  },
  "language_info": {
   "codemirror_mode": {
    "name": "ipython",
    "version": 3
   },
   "file_extension": ".py",
   "mimetype": "text/x-python",
   "name": "python",
   "nbconvert_exporter": "python",
   "pygments_lexer": "ipython3",
   "version": "3.11.9"
  }
 },
 "nbformat": 4,
 "nbformat_minor": 2
}
