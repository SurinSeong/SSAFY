{
 "cells": [
  {
   "cell_type": "markdown",
   "metadata": {},
   "source": [
    "1. **클래스**와 **객체**\n",
    "\n",
    "- 클래스 : 똑같은 무언가를 계속 만들어 낼 수 있는 설계 도면\n",
    "- 객체 : 클래스로 만든 피조물\n",
    "\n",
    "2. 클래스로 만든 객체의 특징\n",
    "\n",
    "- 객체마다 고유한 성격을 가진다. (= 동일한 클래스로 만든 객체들은 서로 전혀 영향을 주지 않는다.)\n",
    "\n",
    "3. 객체와 인스턴스의 차이\n",
    "\n",
    "- ex) a = Cookie()\n",
    "- a : 객체\n",
    "- a 객체는 Cookie의 인스턴스"
   ]
  },
  {
   "cell_type": "markdown",
   "metadata": {},
   "source": [
    "## 계산기 프로그램을 만들며 클래스 알아보기\n",
    "\n",
    "- 사칙연산 클래스 FourCal\n",
    "\n",
    "    - setdata 메서드 : 사칙연산을 하려면 두 숫자를 입력받아야 한다.\n",
    "    - add 메서드 : 더하기 기능\n",
    "    - sub 메서드 : 빼기 기능\n",
    "    - mul 메서드 : 곱하기 기능\n",
    "    - div 메서드 : 나누기 기능\n",
    "\n",
    "- 순서\n",
    "\n",
    "    1) a라는 객체 만들기\n",
    "    2) setdata 메서드를 이용해 두 숫자를 a에 지정해주기\n",
    "    3) 사칙연산 메서드를 수행하면 그에 맞는 결과를 return 해주기"
   ]
  },
  {
   "cell_type": "code",
   "execution_count": 2,
   "metadata": {},
   "outputs": [
    {
     "data": {
      "text/plain": [
       "__main__.FourCal"
      ]
     },
     "execution_count": 2,
     "metadata": {},
     "output_type": "execute_result"
    }
   ],
   "source": [
    "# 클래스 구조 만들기\n",
    "\n",
    "# 아무 변수나 함수를 포함하지 않지만, 원하는 객체를 만들 수 있는 기능은 가지고 있음.\n",
    "class FourCal:\n",
    "    pass # 아무것도 수행하지 않는 문법; 임시로 코드를 작성할 때 주로 사용함.\n",
    "\n",
    "a = FourCal()\n",
    "type(a) # type은 객체의 타입을 출력한다."
   ]
  },
  {
   "cell_type": "code",
   "execution_count": 3,
   "metadata": {},
   "outputs": [
    {
     "name": "stdout",
     "output_type": "stream",
     "text": [
      "10\n",
      "2\n"
     ]
    }
   ],
   "source": [
    "# 객체에 연산할 숫자 지정하기\n",
    "# setdata 메서드 사용해서 a 객체에게 두 숫자를 알려주기\n",
    "\n",
    "class FourCal:\n",
    "    def setdata(self, first, second): # 메서드 : 클래스 안에 구현된 함수\n",
    "        self.first = first\n",
    "        self.second = second\n",
    "        \n",
    "a = FourCal() # a 객체 생성\n",
    "a.setdata(10, 2) # 메서드 호출 -> first, second에 각각 10, 2가 전달된다.\n",
    "print(a.first)\n",
    "print(a.second)\n",
    "# 객체변수, 속성 : 객체에 생성되는 객체만의 변수 (즉, first, second)"
   ]
  },
  {
   "cell_type": "code",
   "execution_count": 4,
   "metadata": {},
   "outputs": [
    {
     "name": "stdout",
     "output_type": "stream",
     "text": [
      "9\n",
      "3\n"
     ]
    }
   ],
   "source": [
    "# b 객체 생성\n",
    "b = FourCal()\n",
    "b.setdata(9, 3)\n",
    "print(b.first)\n",
    "print(b.second)"
   ]
  },
  {
   "cell_type": "code",
   "execution_count": 5,
   "metadata": {},
   "outputs": [],
   "source": [
    "# 더하기, 빼기, 곱하기, 나누기 기능 만들기\n",
    "\n",
    "class FourCal:\n",
    "    def setdata(self, first, second):\n",
    "        self.first = first\n",
    "        self.second = second\n",
    "    \n",
    "    def add(self):\n",
    "        result = self.first + self.second\n",
    "        return result\n",
    "    \n",
    "    def mul(self):\n",
    "        result = self.first * self.second\n",
    "        return result\n",
    "    \n",
    "    def sub(self):\n",
    "        result = self.first - self.second\n",
    "        return result\n",
    "    \n",
    "    def div(self):\n",
    "        result = self.first / self.second\n",
    "        return result"
   ]
  },
  {
   "cell_type": "code",
   "execution_count": 6,
   "metadata": {},
   "outputs": [
    {
     "name": "stdout",
     "output_type": "stream",
     "text": [
      "9 18 2.0 3\n",
      "10 16 4.0 6\n"
     ]
    }
   ],
   "source": [
    "a = FourCal()\n",
    "a.setdata(6, 3)\n",
    "\n",
    "b = FourCal()\n",
    "b.setdata(8, 2)\n",
    "\n",
    "print(a.add(), a.mul(), a.div(), a.sub())\n",
    "print(b.add(), b.mul(), b.div(), b.sub())"
   ]
  },
  {
   "cell_type": "code",
   "execution_count": 11,
   "metadata": {},
   "outputs": [],
   "source": [
    "# 생성자 : 객체가 생성될 때 자동으로 호출되는 메서드\n",
    "# setdata와 같은 메서드를 호출해 초기값을 설정하는 것보다 생성자를 구현하는 것이 안전한 방법이다.\n",
    "\n",
    "class FourCal:\n",
    "    def __init__(self, first, second): # 생성자 메서드, 객체가 생성되는 시점에 자동으로 호출된다.\n",
    "        self.first = first\n",
    "        self.second = second\n",
    "        \n",
    "    # def setdata(self, first, second):\n",
    "    #     self.first = first\n",
    "    #     self.second = second\n",
    "    \n",
    "    def add(self):\n",
    "        result = self.first + self.second\n",
    "        return result\n",
    "    \n",
    "    def mul(self):\n",
    "        result = self.first * self.second\n",
    "        return result\n",
    "    \n",
    "    def sub(self):\n",
    "        result = self.first - self.second\n",
    "        return result\n",
    "    \n",
    "    def div(self):\n",
    "        result = self.first / self.second\n",
    "        return result"
   ]
  },
  {
   "cell_type": "code",
   "execution_count": 12,
   "metadata": {},
   "outputs": [
    {
     "ename": "TypeError",
     "evalue": "FourCal.__init__() missing 2 required positional arguments: 'first' and 'second'",
     "output_type": "error",
     "traceback": [
      "\u001b[1;31m---------------------------------------------------------------------------\u001b[0m",
      "\u001b[1;31mTypeError\u001b[0m                                 Traceback (most recent call last)",
      "Cell \u001b[1;32mIn[12], line 1\u001b[0m\n\u001b[1;32m----> 1\u001b[0m a \u001b[38;5;241m=\u001b[39m \u001b[43mFourCal\u001b[49m\u001b[43m(\u001b[49m\u001b[43m)\u001b[49m\n",
      "\u001b[1;31mTypeError\u001b[0m: FourCal.__init__() missing 2 required positional arguments: 'first' and 'second'"
     ]
    }
   ],
   "source": [
    "a = FourCal()"
   ]
  },
  {
   "cell_type": "code",
   "execution_count": 14,
   "metadata": {},
   "outputs": [
    {
     "name": "stdout",
     "output_type": "stream",
     "text": [
      "5\n",
      "2\n"
     ]
    }
   ],
   "source": [
    "a = FourCal(5, 2)\n",
    "\n",
    "print(a.first)\n",
    "print(a.second)"
   ]
  },
  {
   "cell_type": "code",
   "execution_count": 15,
   "metadata": {},
   "outputs": [],
   "source": [
    "# 클래스의 상속 : 어떤 클래스를 만들 때 다른 클래스의 기능을 물려받을 수 있음.\n",
    "\n",
    "class MoreFourCal(FourCal):\n",
    "    pass"
   ]
  },
  {
   "cell_type": "code",
   "execution_count": 16,
   "metadata": {},
   "outputs": [
    {
     "name": "stdout",
     "output_type": "stream",
     "text": [
      "8 12 4 3.0\n"
     ]
    }
   ],
   "source": [
    "a = MoreFourCal(6, 2)\n",
    "\n",
    "print(a.add(), a.mul(), a.sub(), a.div())"
   ]
  },
  {
   "cell_type": "code",
   "execution_count": 17,
   "metadata": {},
   "outputs": [],
   "source": [
    "# a^b를 계산하는 MoreFourCal 클래스\n",
    "\n",
    "class MoreFourCal(FourCal):\n",
    "    def pow(self):\n",
    "        result = self.first ** self.second\n",
    "        return result"
   ]
  },
  {
   "cell_type": "code",
   "execution_count": 18,
   "metadata": {},
   "outputs": [
    {
     "name": "stdout",
     "output_type": "stream",
     "text": [
      "16\n",
      "6\n"
     ]
    }
   ],
   "source": [
    "a = MoreFourCal(4, 2)\n",
    "\n",
    "print(a.pow())\n",
    "print(a.add())"
   ]
  },
  {
   "cell_type": "code",
   "execution_count": 19,
   "metadata": {},
   "outputs": [],
   "source": [
    "# 메서드 오버라이딩\n",
    "# 0으로 나눌 때 오류가 아닌 값 0을 return 하기\n",
    "\n",
    "class SafeFourCal(FourCal):\n",
    "    def div(self):\n",
    "        if self.second == 0: # 나누는 값이 0인 경우, 0을 리턴하도록 수정정\n",
    "            return 0\n",
    "        else:\n",
    "            return self.first / self.second"
   ]
  },
  {
   "cell_type": "code",
   "execution_count": 20,
   "metadata": {},
   "outputs": [
    {
     "data": {
      "text/plain": [
       "0"
      ]
     },
     "execution_count": 20,
     "metadata": {},
     "output_type": "execute_result"
    }
   ],
   "source": [
    "a = SafeFourCal(5, 0)\n",
    "a.div()"
   ]
  },
  {
   "cell_type": "code",
   "execution_count": 21,
   "metadata": {},
   "outputs": [
    {
     "data": {
      "text/plain": [
       "'김'"
      ]
     },
     "execution_count": 21,
     "metadata": {},
     "output_type": "execute_result"
    }
   ],
   "source": [
    "# 클래스 변수 : 클래스 안에 변수를 선언해 생성\n",
    "\n",
    "class Family:\n",
    "    lastname = '김'\n",
    "    \n",
    "Family.lastname"
   ]
  },
  {
   "cell_type": "code",
   "execution_count": 22,
   "metadata": {},
   "outputs": [
    {
     "name": "stdout",
     "output_type": "stream",
     "text": [
      "김\n",
      "박\n"
     ]
    }
   ],
   "source": [
    "a = Family()\n",
    "print(a.lastname)\n",
    "\n",
    "Family.lastname = '박' # 클래스 변수는 객체 변수와 다르게 클래스로 만든 모든 객체에 공유된다.\n",
    "\n",
    "print(a.lastname)"
   ]
  },
  {
   "cell_type": "code",
   "execution_count": null,
   "metadata": {},
   "outputs": [],
   "source": []
  }
 ],
 "metadata": {
  "kernelspec": {
   "display_name": "3.11.9",
   "language": "python",
   "name": "python3"
  },
  "language_info": {
   "codemirror_mode": {
    "name": "ipython",
    "version": 3
   },
   "file_extension": ".py",
   "mimetype": "text/x-python",
   "name": "python",
   "nbconvert_exporter": "python",
   "pygments_lexer": "ipython3",
   "version": "3.11.9"
  }
 },
 "nbformat": 4,
 "nbformat_minor": 2
}
